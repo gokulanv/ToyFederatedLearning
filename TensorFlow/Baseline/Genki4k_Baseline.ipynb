{
  "nbformat": 4,
  "nbformat_minor": 0,
  "metadata": {
    "colab": {
      "name": "Genki4k_Baseline.ipynb",
      "provenance": [],
      "collapsed_sections": [],
      "authorship_tag": "ABX9TyPaXjqb7BOEIvtf9IR1hdzX",
      "include_colab_link": true
    },
    "kernelspec": {
      "name": "python3",
      "display_name": "Python 3"
    }
  },
  "cells": [
    {
      "cell_type": "markdown",
      "metadata": {
        "id": "view-in-github",
        "colab_type": "text"
      },
      "source": [
        "<a href=\"https://colab.research.google.com/github/gokulanv/ToyFederatedLearning/blob/master/TensorFlow/Baseline/Genki4k_Baseline.ipynb\" target=\"_parent\"><img src=\"https://colab.research.google.com/assets/colab-badge.svg\" alt=\"Open In Colab\"/></a>"
      ]
    },
    {
      "cell_type": "code",
      "metadata": {
        "id": "sc5AMF0WRSCV",
        "colab_type": "code",
        "colab": {}
      },
      "source": [
        "import tensorflow as tf\n",
        "from tensorflow.keras.models import Sequential\n",
        "from tensorflow.keras.layers import Dense, Conv2D, Flatten, Dropout, MaxPooling2D\n",
        "from tensorflow.keras.preprocessing.image import ImageDataGenerator\n",
        "\n",
        "import os\n",
        "import glob\n",
        "import numpy as np\n",
        "import matplotlib.pyplot as plt"
      ],
      "execution_count": 0,
      "outputs": []
    },
    {
      "cell_type": "code",
      "metadata": {
        "id": "ie15ICo6AZeC",
        "colab_type": "code",
        "colab": {
          "base_uri": "https://localhost:8080/",
          "height": 50
        },
        "outputId": "560992b6-0c68-428f-a7af-2bfbc3a8d7cb"
      },
      "source": [
        "_URL = 'https://inc.ucsd.edu/mplab/wordpress/wp-content/uploads/genki4k.tar'\n",
        "\n",
        "path_to_zip = tf.keras.utils.get_file('genki4k.tar', origin=_URL, extract=True)\n",
        "\n",
        "PATH = os.path.join(os.path.dirname(path_to_zip), 'genki4k')"
      ],
      "execution_count": 2,
      "outputs": [
        {
          "output_type": "stream",
          "text": [
            "Downloading data from https://inc.ucsd.edu/mplab/wordpress/wp-content/uploads/genki4k.tar\n",
            "29261824/29255680 [==============================] - 1s 0us/step\n"
          ],
          "name": "stdout"
        }
      ]
    },
    {
      "cell_type": "code",
      "metadata": {
        "id": "WzdNmAYuAlGx",
        "colab_type": "code",
        "outputId": "c1ff64a5-9c43-4ccd-af91-6db0dd8d1636",
        "colab": {
          "base_uri": "https://localhost:8080/",
          "height": 34
        }
      },
      "source": [
        "os.path.dirname(path_to_zip)"
      ],
      "execution_count": 3,
      "outputs": [
        {
          "output_type": "execute_result",
          "data": {
            "text/plain": [
              "'/root/.keras/datasets'"
            ]
          },
          "metadata": {
            "tags": []
          },
          "execution_count": 3
        }
      ]
    },
    {
      "cell_type": "code",
      "metadata": {
        "id": "ohvEcYi7BPXc",
        "colab_type": "code",
        "outputId": "84318fd7-54c1-41ae-818d-9f1c5d4690d4",
        "colab": {
          "base_uri": "https://localhost:8080/",
          "height": 34
        }
      },
      "source": [
        "!ls -a /root/.keras/datasets"
      ],
      "execution_count": 16,
      "outputs": [
        {
          "output_type": "stream",
          "text": [
            ".  ..  files  genki4k.tar  labels.txt  README\n"
          ],
          "name": "stdout"
        }
      ]
    },
    {
      "cell_type": "code",
      "metadata": {
        "id": "pkg7d7DSK4Ss",
        "colab_type": "code",
        "colab": {}
      },
      "source": [
        "labels = list([])\n",
        "\n",
        "text_file = open(os.path.join(os.path.dirname(path_to_zip), 'labels.txt'), \"r\")\n",
        "lines = text_file.read().split('\\n')\n",
        "for line in lines[:4000]:\n",
        "    labels.append(int(line.split()[0]))"
      ],
      "execution_count": 0,
      "outputs": []
    },
    {
      "cell_type": "code",
      "metadata": {
        "id": "K35dSqd3QrFQ",
        "colab_type": "code",
        "colab": {}
      },
      "source": [
        "data = list([])\n",
        "\n",
        "for filename in sorted(glob.glob(os.path.join(os.path.dirname(path_to_zip), \"files/*\"))):\n",
        "    data.append(os.path.join(os.path.dirname(path_to_zip), \"files/\", filename))"
      ],
      "execution_count": 0,
      "outputs": []
    },
    {
      "cell_type": "code",
      "metadata": {
        "id": "EWXQx8DxqYFj",
        "colab_type": "code",
        "colab": {}
      },
      "source": [
        "def parse_image(filename):\n",
        "    image = tf.io.read_file(filename)\n",
        "    image = tf.image.decode_jpeg(image)\n",
        "    image = tf.image.convert_image_dtype(image, tf.float32)\n",
        "    image = tf.image.resize(image, [192, 178])\n",
        "    return image.numpy()\n",
        "\n",
        "imgs = []\n",
        "erratic_files = []\n",
        "for i,filename in enumerate(data):\n",
        "    img = np.array(parse_image(filename))\n",
        "    if img.shape[2] == 3:\n",
        "        imgs.append(img)\n",
        "    else:\n",
        "        erratic_files.append(i)\n",
        "# data = np.concatenate(imgs)\n",
        "imgs = np.asarray(imgs)\n",
        "data = imgs\n",
        "labels = np.asarray(labels)[:, None]\n",
        "# data = np.reshape(data, (len(data), 192, 178, 3))\n",
        "# labels = np.reshape(labels, (len(data), 1))\n",
        "# data = np.expand_dims(data, (1,2,3))\n",
        "# labels = np.expand_dims(labels, 1)"
      ],
      "execution_count": 0,
      "outputs": []
    },
    {
      "cell_type": "code",
      "metadata": {
        "id": "x_7VWLco6rhJ",
        "colab_type": "code",
        "outputId": "fdbf6a7d-9703-4b84-fef1-e2153b1e9f16",
        "colab": {
          "base_uri": "https://localhost:8080/",
          "height": 34
        }
      },
      "source": [
        "ix = 0\n",
        "for r in erratic_files:\n",
        "    r -= ix\n",
        "    labels = np.delete(labels, r, 0)\n",
        "    ix += 1\n",
        "labels.shape, data.shape"
      ],
      "execution_count": 23,
      "outputs": [
        {
          "output_type": "execute_result",
          "data": {
            "text/plain": [
              "((3998, 1), (3998, 192, 178, 3))"
            ]
          },
          "metadata": {
            "tags": []
          },
          "execution_count": 23
        }
      ]
    },
    {
      "cell_type": "code",
      "metadata": {
        "id": "LpDStuIrT9TH",
        "colab_type": "code",
        "outputId": "348b9408-7935-4ba1-b94a-5fa591dd6061",
        "colab": {
          "base_uri": "https://localhost:8080/",
          "height": 34
        }
      },
      "source": [
        "# labels = np.array(labels)\n",
        "len(labels), len(data), labels.shape, data.shape\n",
        "# np.concatenate((data, labels), axis = 0).shape"
      ],
      "execution_count": 24,
      "outputs": [
        {
          "output_type": "execute_result",
          "data": {
            "text/plain": [
              "(3998, 3998, (3998, 1), (3998, 192, 178, 3))"
            ]
          },
          "metadata": {
            "tags": []
          },
          "execution_count": 24
        }
      ]
    },
    {
      "cell_type": "code",
      "metadata": {
        "id": "pZKLA8ebEwYx",
        "colab_type": "code",
        "colab": {
          "base_uri": "https://localhost:8080/",
          "height": 34
        },
        "outputId": "cf72ba81-0470-4706-f9c3-6aaa3a66813d"
      },
      "source": [
        "from sklearn.utils import shuffle\n",
        "X, Y = shuffle(data, labels, random_state=0)\n",
        "X.shape, Y.shape"
      ],
      "execution_count": 25,
      "outputs": [
        {
          "output_type": "execute_result",
          "data": {
            "text/plain": [
              "((3998, 192, 178, 3), (3998, 1))"
            ]
          },
          "metadata": {
            "tags": []
          },
          "execution_count": 25
        }
      ]
    },
    {
      "cell_type": "code",
      "metadata": {
        "id": "xb23BzbzVgLQ",
        "colab_type": "code",
        "colab": {
          "base_uri": "https://localhost:8080/",
          "height": 264
        },
        "outputId": "5d6203f6-d782-44b8-d780-110f2292b76e"
      },
      "source": [
        "\n",
        "def show(image, label):\n",
        "  plt.figure()\n",
        "  plt.imshow(image)\n",
        "  plt.title('smiling' if label[0] == 1 else 'not smiling')\n",
        "  plt.axis('off')\n",
        "\n",
        "idx = 1149\n",
        "show(X[idx], Y[idx])"
      ],
      "execution_count": 26,
      "outputs": [
        {
          "output_type": "display_data",
          "data": {
            "image/png": "[encoded data removed]",
            "text/plain": [
              "<Figure size 432x288 with 1 Axes>"
            ]
          },
          "metadata": {
            "tags": [],
            "needs_background": "light"
          }
        }
      ]
    },
    {
      "cell_type": "code",
      "metadata": {
        "id": "-Sgtl5Z8cTQc",
        "colab_type": "code",
        "colab": {}
      },
      "source": [
        "split_index = 3500\n",
        "\n",
        "train_dataset = tf.data.Dataset.from_tensor_slices((X[:split_index], Y[:split_index]))\n",
        "test_dataset = tf.data.Dataset.from_tensor_slices((X[split_index:], Y[split_index:]))"
      ],
      "execution_count": 0,
      "outputs": []
    },
    {
      "cell_type": "code",
      "metadata": {
        "id": "lV-SxViUc-r2",
        "colab_type": "code",
        "colab": {}
      },
      "source": [
        "batch_size = 256\n",
        "\n",
        "train_dataset = train_dataset.batch(batch_size)\n",
        "test_dataset = test_dataset.batch(batch_size)"
      ],
      "execution_count": 0,
      "outputs": []
    },
    {
      "cell_type": "code",
      "metadata": {
        "id": "W4N5wwKpdzjg",
        "colab_type": "code",
        "colab": {}
      },
      "source": [
        "model = Sequential([\n",
        "    Conv2D(16, 3, padding='same', activation='relu', input_shape=(192, 178 ,3)),\n",
        "    MaxPooling2D(),\n",
        "    Conv2D(32, 3, padding='same', activation='relu'),\n",
        "    MaxPooling2D(),\n",
        "    Conv2D(64, 3, padding='same', activation='relu'),\n",
        "    MaxPooling2D(),\n",
        "    Flatten(),\n",
        "    Dense(512, activation='relu'),\n",
        "    Dense(1)\n",
        "])\n",
        "\n",
        "model.compile(optimizer=tf.keras.optimizers.RMSprop(),\n",
        "              loss=tf.keras.losses.BinaryCrossentropy(from_logits=True),\n",
        "              metrics=['accuracy'])"
      ],
      "execution_count": 0,
      "outputs": []
    },
    {
      "cell_type": "code",
      "metadata": {
        "id": "DXdB_cvyJ2Ng",
        "colab_type": "code",
        "colab": {
          "base_uri": "https://localhost:8080/",
          "height": 706
        },
        "outputId": "23f3b4f4-cf1b-4fc2-e957-356b024055d3"
      },
      "source": [
        "# BATCH_SIZE = 64\n",
        "model.fit(train_dataset, epochs=20, validation_data=test_dataset)"
      ],
      "execution_count": 15,
      "outputs": [
        {
          "output_type": "stream",
          "text": [
            "Epoch 1/20\n",
            "55/55 [==============================] - 117s 2s/step - loss: 0.8798 - accuracy: 0.4800 - val_loss: 0.6893 - val_accuracy: 0.4418\n",
            "Epoch 2/20\n",
            "55/55 [==============================] - 117s 2s/step - loss: 0.6816 - accuracy: 0.5157 - val_loss: 0.9824 - val_accuracy: 0.4418\n",
            "Epoch 3/20\n",
            "55/55 [==============================] - 116s 2s/step - loss: 0.6674 - accuracy: 0.5680 - val_loss: 0.7660 - val_accuracy: 0.4498\n",
            "Epoch 4/20\n",
            "55/55 [==============================] - 116s 2s/step - loss: 0.6292 - accuracy: 0.6109 - val_loss: 0.7605 - val_accuracy: 0.4880\n",
            "Epoch 5/20\n",
            "55/55 [==============================] - 116s 2s/step - loss: 0.5900 - accuracy: 0.6597 - val_loss: 0.6617 - val_accuracy: 0.5582\n",
            "Epoch 6/20\n",
            "55/55 [==============================] - 115s 2s/step - loss: 0.5347 - accuracy: 0.7111 - val_loss: 0.6800 - val_accuracy: 0.5482\n",
            "Epoch 7/20\n",
            "55/55 [==============================] - 115s 2s/step - loss: 0.4847 - accuracy: 0.7489 - val_loss: 0.7718 - val_accuracy: 0.5341\n",
            "Epoch 8/20\n",
            "55/55 [==============================] - 115s 2s/step - loss: 0.4159 - accuracy: 0.7997 - val_loss: 0.6894 - val_accuracy: 0.6024\n",
            "Epoch 9/20\n",
            "55/55 [==============================] - 115s 2s/step - loss: 0.3450 - accuracy: 0.8460 - val_loss: 1.3058 - val_accuracy: 0.4859\n",
            "Epoch 10/20\n",
            "55/55 [==============================] - 117s 2s/step - loss: 0.2789 - accuracy: 0.8791 - val_loss: 0.7947 - val_accuracy: 0.6888\n",
            "Epoch 11/20\n",
            "55/55 [==============================] - 115s 2s/step - loss: 0.2233 - accuracy: 0.9003 - val_loss: 0.8907 - val_accuracy: 0.6727\n",
            "Epoch 12/20\n",
            "55/55 [==============================] - 115s 2s/step - loss: 0.2262 - accuracy: 0.9300 - val_loss: 1.4219 - val_accuracy: 0.5020\n",
            "Epoch 13/20\n",
            "55/55 [==============================] - 115s 2s/step - loss: 0.1397 - accuracy: 0.9431 - val_loss: 1.1976 - val_accuracy: 0.6647\n",
            "Epoch 14/20\n",
            "55/55 [==============================] - 115s 2s/step - loss: 0.1538 - accuracy: 0.9569 - val_loss: 1.2874 - val_accuracy: 0.6687\n",
            "Epoch 15/20\n",
            "55/55 [==============================] - 115s 2s/step - loss: 0.0901 - accuracy: 0.9760 - val_loss: 1.5967 - val_accuracy: 0.6727\n",
            "Epoch 16/20\n",
            "55/55 [==============================] - 117s 2s/step - loss: 0.0519 - accuracy: 0.9849 - val_loss: 1.9534 - val_accuracy: 0.6727\n",
            "Epoch 17/20\n",
            "55/55 [==============================] - 115s 2s/step - loss: 0.1196 - accuracy: 0.9760 - val_loss: 2.1011 - val_accuracy: 0.6627\n",
            "Epoch 18/20\n",
            "55/55 [==============================] - 115s 2s/step - loss: 0.1124 - accuracy: 0.9771 - val_loss: 1.8712 - val_accuracy: 0.6928\n",
            "Epoch 19/20\n",
            "55/55 [==============================] - 115s 2s/step - loss: 0.0329 - accuracy: 0.9877 - val_loss: 2.1209 - val_accuracy: 0.6888\n",
            "Epoch 20/20\n",
            "55/55 [==============================] - 115s 2s/step - loss: 0.1130 - accuracy: 0.9740 - val_loss: 1.7900 - val_accuracy: 0.6767\n"
          ],
          "name": "stdout"
        },
        {
          "output_type": "execute_result",
          "data": {
            "text/plain": [
              "<tensorflow.python.keras.callbacks.History at 0x7fa0321dd5f8>"
            ]
          },
          "metadata": {
            "tags": []
          },
          "execution_count": 15
        }
      ]
    },
    {
      "cell_type": "code",
      "metadata": {
        "id": "BxqQ36OXmRr4",
        "colab_type": "code",
        "colab": {
          "base_uri": "https://localhost:8080/",
          "height": 706
        },
        "outputId": "a2ed4b2f-5f64-4fb4-abf0-af4d032fd98a"
      },
      "source": [
        "#BATCH_SIZE = 4\n",
        "model.fit(train_dataset, epochs=20, validation_data=test_dataset)"
      ],
      "execution_count": 30,
      "outputs": [
        {
          "output_type": "stream",
          "text": [
            "Epoch 1/20\n",
            "875/875 [==============================] - 424s 484ms/step - loss: 0.7251 - accuracy: 0.4831 - val_loss: 0.6832 - val_accuracy: 0.5060\n",
            "Epoch 2/20\n",
            "875/875 [==============================] - 411s 470ms/step - loss: 0.6734 - accuracy: 0.5409 - val_loss: 0.6824 - val_accuracy: 0.4839\n",
            "Epoch 3/20\n",
            "875/875 [==============================] - 405s 463ms/step - loss: 0.6135 - accuracy: 0.6491 - val_loss: 0.5900 - val_accuracy: 0.6365\n",
            "Epoch 4/20\n",
            "875/875 [==============================] - 405s 463ms/step - loss: 0.5243 - accuracy: 0.7351 - val_loss: 0.5620 - val_accuracy: 0.6807\n",
            "Epoch 5/20\n",
            "875/875 [==============================] - 407s 465ms/step - loss: 0.4497 - accuracy: 0.7934 - val_loss: 0.6497 - val_accuracy: 0.6847\n",
            "Epoch 6/20\n",
            "875/875 [==============================] - 410s 468ms/step - loss: 0.3503 - accuracy: 0.8431 - val_loss: 0.6658 - val_accuracy: 0.6807\n",
            "Epoch 7/20\n",
            "875/875 [==============================] - 419s 479ms/step - loss: 0.2689 - accuracy: 0.8989 - val_loss: 0.9169 - val_accuracy: 0.7108\n",
            "Epoch 8/20\n",
            "875/875 [==============================] - 435s 497ms/step - loss: 0.1961 - accuracy: 0.9266 - val_loss: 1.7088 - val_accuracy: 0.6928\n",
            "Epoch 9/20\n",
            "875/875 [==============================] - 467s 534ms/step - loss: 0.1504 - accuracy: 0.9463 - val_loss: 1.4611 - val_accuracy: 0.7108\n",
            "Epoch 10/20\n",
            "875/875 [==============================] - 435s 497ms/step - loss: 0.1122 - accuracy: 0.9600 - val_loss: 2.1407 - val_accuracy: 0.6988\n",
            "Epoch 11/20\n",
            "875/875 [==============================] - 407s 465ms/step - loss: 0.1409 - accuracy: 0.9637 - val_loss: 2.8003 - val_accuracy: 0.7068\n",
            "Epoch 12/20\n",
            "875/875 [==============================] - 401s 458ms/step - loss: 0.1000 - accuracy: 0.9720 - val_loss: 3.6335 - val_accuracy: 0.7169\n",
            "Epoch 13/20\n",
            "875/875 [==============================] - 391s 447ms/step - loss: 0.0756 - accuracy: 0.9803 - val_loss: 3.8252 - val_accuracy: 0.7390\n",
            "Epoch 14/20\n",
            "875/875 [==============================] - 390s 445ms/step - loss: 0.1031 - accuracy: 0.9789 - val_loss: 4.0697 - val_accuracy: 0.7229\n",
            "Epoch 15/20\n",
            "875/875 [==============================] - 394s 450ms/step - loss: 0.0705 - accuracy: 0.9806 - val_loss: 3.1079 - val_accuracy: 0.7048\n",
            "Epoch 16/20\n",
            "875/875 [==============================] - 393s 449ms/step - loss: 0.0950 - accuracy: 0.9806 - val_loss: 3.7331 - val_accuracy: 0.7088\n",
            "Epoch 17/20\n",
            "875/875 [==============================] - 400s 458ms/step - loss: 0.0701 - accuracy: 0.9849 - val_loss: 6.2972 - val_accuracy: 0.7129\n",
            "Epoch 18/20\n",
            "875/875 [==============================] - 426s 487ms/step - loss: 0.0537 - accuracy: 0.9866 - val_loss: 4.4832 - val_accuracy: 0.7269\n",
            "Epoch 19/20\n",
            "875/875 [==============================] - 425s 486ms/step - loss: 0.0819 - accuracy: 0.9857 - val_loss: 5.5215 - val_accuracy: 0.7169\n",
            "Epoch 20/20\n",
            "875/875 [==============================] - 410s 468ms/step - loss: 0.0698 - accuracy: 0.9894 - val_loss: 4.9906 - val_accuracy: 0.7129\n"
          ],
          "name": "stdout"
        },
        {
          "output_type": "execute_result",
          "data": {
            "text/plain": [
              "<tensorflow.python.keras.callbacks.History at 0x7fa02d0042b0>"
            ]
          },
          "metadata": {
            "tags": []
          },
          "execution_count": 30
        }
      ]
    },
    {
      "cell_type": "code",
      "metadata": {
        "id": "0iURoF6ymRhY",
        "colab_type": "code",
        "colab": {
          "base_uri": "https://localhost:8080/",
          "height": 706
        },
        "outputId": "2d6faa5f-7691-4168-a7fb-a998edc4f6fb"
      },
      "source": [
        "#BATCH_SIZE = 256\n",
        "model.fit(train_dataset, epochs=20, validation_data=test_dataset)"
      ],
      "execution_count": 37,
      "outputs": [
        {
          "output_type": "stream",
          "text": [
            "Epoch 1/20\n",
            "14/14 [==============================] - 105s 7s/step - loss: 2.0199 - accuracy: 0.4837 - val_loss: 0.6743 - val_accuracy: 0.4458\n",
            "Epoch 2/20\n",
            "14/14 [==============================] - 106s 8s/step - loss: 0.6791 - accuracy: 0.4971 - val_loss: 0.6678 - val_accuracy: 0.4779\n",
            "Epoch 3/20\n",
            "14/14 [==============================] - 105s 8s/step - loss: 0.6753 - accuracy: 0.5151 - val_loss: 0.6616 - val_accuracy: 0.5422\n",
            "Epoch 4/20\n",
            "14/14 [==============================] - 104s 7s/step - loss: 0.6634 - accuracy: 0.5471 - val_loss: 0.6688 - val_accuracy: 0.5763\n",
            "Epoch 5/20\n",
            "14/14 [==============================] - 106s 8s/step - loss: 0.6665 - accuracy: 0.5440 - val_loss: 0.6647 - val_accuracy: 0.4900\n",
            "Epoch 6/20\n",
            "14/14 [==============================] - 105s 8s/step - loss: 0.6509 - accuracy: 0.5789 - val_loss: 0.6480 - val_accuracy: 0.5663\n",
            "Epoch 7/20\n",
            "14/14 [==============================] - 104s 7s/step - loss: 0.6310 - accuracy: 0.6051 - val_loss: 0.6788 - val_accuracy: 0.5020\n",
            "Epoch 8/20\n",
            "14/14 [==============================] - 105s 7s/step - loss: 0.6359 - accuracy: 0.5923 - val_loss: 0.8283 - val_accuracy: 0.4438\n",
            "Epoch 9/20\n",
            "14/14 [==============================] - 105s 8s/step - loss: 0.6270 - accuracy: 0.6197 - val_loss: 0.6443 - val_accuracy: 0.5924\n",
            "Epoch 10/20\n",
            "14/14 [==============================] - 106s 8s/step - loss: 0.6063 - accuracy: 0.6626 - val_loss: 0.6748 - val_accuracy: 0.4679\n",
            "Epoch 11/20\n",
            "14/14 [==============================] - 105s 8s/step - loss: 0.5503 - accuracy: 0.6840 - val_loss: 0.7739 - val_accuracy: 0.4719\n",
            "Epoch 12/20\n",
            "14/14 [==============================] - 104s 7s/step - loss: 0.5705 - accuracy: 0.6820 - val_loss: 0.6828 - val_accuracy: 0.4920\n",
            "Epoch 13/20\n",
            "14/14 [==============================] - 104s 7s/step - loss: 0.5109 - accuracy: 0.7183 - val_loss: 0.9493 - val_accuracy: 0.6305\n",
            "Epoch 14/20\n",
            "14/14 [==============================] - 104s 7s/step - loss: 0.5511 - accuracy: 0.7069 - val_loss: 0.9566 - val_accuracy: 0.4679\n",
            "Epoch 15/20\n",
            "14/14 [==============================] - 104s 7s/step - loss: 0.4822 - accuracy: 0.7577 - val_loss: 0.7259 - val_accuracy: 0.6104\n",
            "Epoch 16/20\n",
            "14/14 [==============================] - 105s 7s/step - loss: 0.4449 - accuracy: 0.7800 - val_loss: 0.7526 - val_accuracy: 0.5944\n",
            "Epoch 17/20\n",
            "14/14 [==============================] - 104s 7s/step - loss: 0.4689 - accuracy: 0.7940 - val_loss: 0.9596 - val_accuracy: 0.6667\n",
            "Epoch 18/20\n",
            "14/14 [==============================] - 105s 7s/step - loss: 0.4325 - accuracy: 0.7869 - val_loss: 0.7244 - val_accuracy: 0.6667\n",
            "Epoch 19/20\n",
            "14/14 [==============================] - 105s 8s/step - loss: 0.4046 - accuracy: 0.8086 - val_loss: 0.6992 - val_accuracy: 0.5683\n",
            "Epoch 20/20\n",
            "14/14 [==============================] - 105s 7s/step - loss: 0.3269 - accuracy: 0.8643 - val_loss: 0.7710 - val_accuracy: 0.6727\n"
          ],
          "name": "stdout"
        },
        {
          "output_type": "execute_result",
          "data": {
            "text/plain": [
              "<tensorflow.python.keras.callbacks.History at 0x7fa02bd97f28>"
            ]
          },
          "metadata": {
            "tags": []
          },
          "execution_count": 37
        }
      ]
    }
  ]
}